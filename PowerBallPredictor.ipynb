{
  "nbformat": 4,
  "nbformat_minor": 0,
  "metadata": {
    "colab": {
      "provenance": [],
      "authorship_tag": "ABX9TyPjIyqXa534Gkz4eck5RKnA",
      "include_colab_link": true
    },
    "kernelspec": {
      "name": "python3",
      "display_name": "Python 3"
    },
    "language_info": {
      "name": "python"
    }
  },
  "cells": [
    {
      "cell_type": "markdown",
      "metadata": {
        "id": "view-in-github",
        "colab_type": "text"
      },
      "source": [
        "<a href=\"https://colab.research.google.com/github/jonvthvn90/AndroidApp/blob/main/PowerBallPredictor.ipynb\" target=\"_parent\"><img src=\"https://colab.research.google.com/assets/colab-badge.svg\" alt=\"Open In Colab\"/></a>"
      ]
    },
    {
      "cell_type": "code",
      "execution_count": 15,
      "metadata": {
        "id": "3NxxMlugxtXH"
      },
      "outputs": [],
      "source": [
        "import tkinter as tk\n",
        "from tkinter import filedialog, messagebox\n",
        "import pandas as pd\n",
        "import numpy as np\n",
        "import re\n",
        "import random\n",
        "import matplotlib.pyplot as plt\n",
        "from collections import Counter\n",
        "from sklearn.tree import DecisionTreeClassifier\n",
        "from sklearn.model_selection import train_test_split, GridSearchCV\n",
        "from sklearn.ensemble import RandomForestClassifier\n",
        "from sklearn.svm import SVC\n",
        "from sklearn.neural_network import MLPRegressor\n",
        "from statsmodels.tsa.arima.model import ARIMA\n",
        "from sklearn.cluster import KMeans"
      ]
    },
    {
      "cell_type": "code",
      "source": [
        "class LotteryPredictor:\n",
        "    def __init__(self, master):\n",
        "        self.master = master\n",
        "        master.title(\"Advanced Lottery Predictor\")\n",
        "\n",
        "        self.label = tk.Label(master, text=\"Upload your lottery results text file:\")\n",
        "        self.label.pack()\n",
        "\n",
        "        self.upload_button = tk.Button(master, text=\"Upload File\", command=self.upload_file)\n",
        "        self.upload_button.pack()\n",
        "\n",
        "        self.predict_button = tk.Button(master, text=\"Get Predictions\", command=self.make_predictions, state=tk.DISABLED)\n",
        "        self.predict_button.pack()\n",
        "\n",
        "        self.prediction_label = tk.Label(master, text=\"\", font=(\"Helvetica\", 12))\n",
        "        self.prediction_label.pack()\n",
        "\n",
        "        self.file_path = None\n",
        "        self.history_data = None\n",
        "\n",
        "    def upload_file(self):\n",
        "        self.file_path = filedialog.askopenfilename(filetypes=[(\"Text Files\", \"*.txt\")])\n",
        "        if self.file_path:\n",
        "            messagebox.showinfo(\"File Selected\", \"File uploaded successfully!\")\n",
        "            self.history_data = self.load_data(self.file_path)  # Load historical data on upload\n",
        "            self.predict_button.config(state=tk.NORMAL)\n",
        "\n",
        "    def make_predictions(self): # Corrected indentation here\n",
        "        if self.file_path:\n",
        "            predictions = self.predict_numbers(self.history_data)\n",
        "            prediction_text = \", \".join(map(str, predictions))\n",
        "            self.prediction\n"
      ],
      "metadata": {
        "id": "I3cRf7CT2ce4"
      },
      "execution_count": 16,
      "outputs": []
    },
    {
      "cell_type": "code",
      "source": [
        "\n",
        "    def predict_numbers(self, data):\n",
        "        # Statistical Analysis: Descriptive statistics and frequency analysis\n",
        "        frequency_analysis = self.frequency_analysis(data)\n",
        "\n",
        "        # Moving Averages\n",
        "        moving_average = self.calculate_moving_average(data)\n",
        "\n",
        "        # Prepare features for Machine Learning\n",
        "        X, y = self.prepare_ml_data(data)\n",
        "\n",
        "        # Train Machine Learning Models\n",
        "        dt_predictions = self.train_decision_tree(X, y)\n",
        "        rf_predictions = self.train_random_forest(X, y)\n",
        "        nn_predictions = self.train_neural_network(X, y)\n",
        "\n",
        "        # Time Series Analysis with ARIMA\n",
        "        powerball_forecast = self.time_series_analysis(data)\n",
        "\n",
        "        # Clustering: K-Means\n",
        "        self.clustering(data)\n",
        "\n",
        "        # Predictions\n",
        "        predictions = random.sample(frequency_analysis, 5)  # Random sample of frequent numbers\n",
        "        predictions.append(int(powerball_forecast))  # Add Powerball prediction\n",
        "\n",
        "        # Evolve predictions using Genetic Algorithms\n",
        "        evolved_predictions = self.genetic_algorithm(predictions, data)  # Pass historical data for fitness evaluation\n",
        "\n",
        "        return evolved_predictions\n"
      ],
      "metadata": {
        "id": "Fg6yhYcS2kcu"
      },
      "execution_count": 17,
      "outputs": []
    },
    {
      "cell_type": "code",
      "source": [
        "def load_data(self, file_path):\n",
        "        # Load and clean the data\n",
        "        data = pd.read_csv(file_path, sep=';', header=None, names=['Date', 'Numbers', 'Powerball'])\n",
        "        data['Numbers'] = data['Numbers'].apply(lambda x: list(map(int, x.split(','))))\n",
        "        data['Powerball'] = data['Powerball'].apply(lambda x: int(x.split(': ')[1]))  # Extract Powerball number\n",
        "        return data"
      ],
      "metadata": {
        "id": "lh2ArahV3aSe"
      },
      "execution_count": 18,
      "outputs": []
    },
    {
      "cell_type": "code",
      "source": [
        " def frequency_analysis(self, data):\n",
        "        # Frequency Analysis of numbers\n",
        "        flattened_numbers = [num for sublist in data['Numbers'] for num in sublist]\n",
        "        number_counts = Counter(flattened_numbers)\n",
        "        most_common_numbers = number_counts.most_common(10)\n",
        "        return [num for num, _ in most_common_numbers]\n"
      ],
      "metadata": {
        "id": "e9juB4vE3m1j"
      },
      "execution_count": 19,
      "outputs": []
    },
    {
      "cell_type": "code",
      "source": [
        " def calculate_moving_average(self, data):\n",
        "        # Calculate moving averages\n",
        "        return data['Powerball'].rolling(window=5).mean()"
      ],
      "metadata": {
        "id": "Em0mIS-H3quk"
      },
      "execution_count": 20,
      "outputs": []
    },
    {
      "cell_type": "code",
      "source": [
        "def prepare_ml_data(self, data):\n",
        "        # Prepare features and target for machine learning\n",
        "        features = []\n",
        "        targets = []\n",
        "\n",
        "        for i in range(len(data) - 1):\n",
        "            features.append(data['Numbers'].iloc[i])\n",
        "            targets.append(data['Numbers'].iloc[i + 1])\n",
        "\n",
        "        X = np.array(features)\n",
        "        y = np.array(targets)\n",
        "        return X, y"
      ],
      "metadata": {
        "id": "dLl-IxFP3t8j"
      },
      "execution_count": 21,
      "outputs": []
    },
    {
      "cell_type": "code",
      "source": [
        "def train_decision_tree(self, X, y):\n",
        "        # Train Decision Tree Classifier with hyperparameter tuning\n",
        "        param_grid = {'max_depth': [3, 5, 7, None], 'min_samples_split': [2, 5, 10]}\n",
        "        grid_search = GridSearchCV(DecisionTreeClassifier(), param_grid, cv=5)\n",
        "        grid_search.fit(X, y)\n",
        "        return grid_search.best_estimator_.predict(X)"
      ],
      "metadata": {
        "id": "zZwFhLbD3y0s"
      },
      "execution_count": 22,
      "outputs": []
    },
    {
      "cell_type": "code",
      "source": [
        " def train_random_forest(self, X, y):\n",
        "        # Train Random Forest Classifier with hyperparameter tuning\n",
        "        param_grid = {'n_estimators': [50, 100, 200], 'max_depth': [3, 5, 7, None]}\n",
        "        grid_search = GridSearchCV(RandomForestClassifier(), param_grid, cv=5)\n",
        "        grid_search.fit(X, y)\n",
        "        return grid_search.best_estimator_.predict(X)\n"
      ],
      "metadata": {
        "id": "5Lz6Bf9K32Jd"
      },
      "execution_count": 23,
      "outputs": []
    },
    {
      "cell_type": "code",
      "source": [
        " def train_neural_network(self, X, y):\n",
        "        # Train Neural Network\n",
        "        nn_model = MLPRegressor(hidden_layer_sizes=(10,), max_iter=1000)\n",
        "        nn_model.fit(X, y)\n",
        "        predictions = nn_model.predict(X)\n",
        "        return predictions"
      ],
      "metadata": {
        "id": "3LQYhp2k35Y_"
      },
      "execution_count": 24,
      "outputs": []
    },
    {
      "cell_type": "code",
      "source": [
        "def time_series_analysis(self, data):\n",
        "        # Apply ARIMA for time series analysis\n",
        "        powerball_results = data['Powerball'].astype(int)\n",
        "        arima_model = ARIMA(powerball_results, order=(5, 1, 0))\n",
        "        arima_model_fit = arima_model.fit()\n",
        "        powerball_forecast = arima_model_fit.forecast(steps=1)\n",
        "        return powerball_forecast.values[0]\n"
      ],
      "metadata": {
        "id": "ysqmvrRo39KJ"
      },
      "execution_count": 25,
      "outputs": []
    },
    {
      "cell_type": "code",
      "source": [
        "  def clustering(self, data):\n",
        "        # Use K-Means clustering to identify patterns\n",
        "        all_numbers = np.array([num for sublist in data['Numbers'] for num in sublist]).reshape(-1, 1)\n",
        "        kmeans = KMeans(n_clusters=5, random_state=42)\n",
        "        kmeans.fit(all_numbers)\n",
        "\n",
        "        plt.figure(figsize=(8, 6))\n",
        "        plt.scatter(all_numbers, np.zeros_like(all_numbers), c=kmeans.labels_, cmap='viridis', marker='o')\n",
        "        plt.title('K-Means Clustering of Lottery Numbers')\n",
        "        plt.xlabel('Lottery Numbers')\n",
        "        plt.ylabel('Clusters')\n",
        "        plt.show()\n"
      ],
      "metadata": {
        "id": "bYnG4PVN3_90"
      },
      "execution_count": 26,
      "outputs": []
    },
    {
      "cell_type": "code",
      "source": [
        " def genetic_algorithm(self, predictions, historical_data):\n",
        "        # Basic Genetic Algorithm for evolving predictions\n",
        "        population_size = 100\n",
        "        generations = 50\n",
        "\n",
        "        # Generate initial population\n",
        "        population = [random.sample(range(1, 70), 5) for _ in range(population_size)]\n",
        "\n",
        "        for _ in range(generations):\n",
        "            # Calculate fitness based on historical data\n",
        "            fitness = [self.calculate_fitness(individual, historical_data) for individual in population]\n",
        "\n",
        "            # Selection: choose the best individuals\n",
        "            selected_indices = np.argsort(fitness)[-20:]  # Select top 20 individuals\n",
        "            selected = [population[i] for i in selected_indices]\n",
        "\n",
        "            # Crossover: create new individuals\n",
        "            next_generation = []\n",
        "            while len(next_generation) < population_size:\n",
        "                parent1, parent2 = random.sample(selected, 2)\n",
        "                crossover_point = random.randint(1, 4)\n",
        "                child = parent1[:crossover_point] + parent2[crossover_point:]\n",
        "                next_generation.append(child)\n",
        "\n",
        "            population = next_generation\n",
        "\n",
        "        best_individual = population[np.argmax(fitness)]\n",
        "        return best_individual"
      ],
      "metadata": {
        "id": "G0erikQy4DCI"
      },
      "execution_count": 27,
      "outputs": []
    },
    {
      "cell_type": "code",
      "source": [
        " def calculate_fitness(self, individual, historical_data):\n",
        "        # Calculate fitness based on matching historical results\n",
        "        match_count = 0\n",
        "        for _, row in historical_data.iterrows():\n",
        "            if set(individual).intersection(set(row['Numbers'])):\n",
        "                match_count += 1\n",
        "        return match_count  # Higher score for more matches"
      ],
      "metadata": {
        "id": "1ps1SCEc4H7C"
      },
      "execution_count": 28,
      "outputs": []
    },
    {
      "cell_type": "code",
      "source": [
        "!apt-get install xvfb #Install Xvfb\n",
        "!pip install pyvirtualdisplay #Install pyvirtualdisplay"
      ],
      "metadata": {
        "id": "BQoRlMRe5vep"
      },
      "execution_count": null,
      "outputs": []
    },
    {
      "cell_type": "code",
      "source": [
        "import tkinter as tk\n",
        "import os\n",
        "from pyvirtualdisplay import Display\n",
        "\n",
        "if __name__ == \"__main__\":\n",
        "  display = Display(visible=0, size=(800, 600))\n",
        "  display.start()\n",
        "  # Check if DISPLAY environment variable is set\n",
        "  if \"DISPLAY\" not in os.environ:\n",
        "      # Set DISPLAY environment variable if not set (e.g., to :0)\n",
        "      os.environ[\"DISPLAY\"] = \":0\"\n",
        "  root = tk.Tk()\n",
        "  # ...(Your remaining code)\n",
        "  root.mainloop()\n",
        "  display.stop()"
      ],
      "metadata": {
        "id": "3Zo6TX-V5xvS"
      },
      "execution_count": null,
      "outputs": []
    }
  ]
}